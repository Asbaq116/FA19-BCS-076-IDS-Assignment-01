{
  "nbformat": 4,
  "nbformat_minor": 0,
  "metadata": {
    "colab": {
      "provenance": []
    },
    "kernelspec": {
      "name": "python3",
      "display_name": "Python 3"
    },
    "language_info": {
      "name": "python"
    }
  },
  "cells": [
    {
      "cell_type": "code",
      "execution_count": 1,
      "metadata": {
        "id": "pe1KElR1Ulzk"
      },
      "outputs": [],
      "source": [
        "import pandas as pd\n",
        "import re\n",
        "import seaborn as sn\n",
        "import matplotlib.pyplot as plt"
      ]
    },
    {
      "cell_type": "code",
      "source": [
        "from google.colab import drive \n",
        "drive.mount('/content/drive')"
      ],
      "metadata": {
        "id": "9OeWOBNFUuuc",
        "colab": {
          "base_uri": "https://localhost:8080/"
        },
        "outputId": "c2de5524-2541-474d-a90b-fc23847a14df"
      },
      "execution_count": 2,
      "outputs": [
        {
          "output_type": "stream",
          "name": "stdout",
          "text": [
            "Mounted at /content/drive\n"
          ]
        }
      ]
    },
    {
      "cell_type": "code",
      "source": [
        "#loaded the normalised dataset\n",
        "df = pd.read_csv(('/content/drive/ My Drive/the-hello-dataset-normalised.csv'))\n",
        "\n",
        "y = df\n",
        "print(y)"
      ],
      "metadata": {
        "colab": {
          "base_uri": "https://localhost:8080/"
        },
        "id": "22pYe0ybLO2q",
        "outputId": "87692d09-809f-4dfc-e7e8-c2cc5b60ea16"
      },
      "execution_count": 3,
      "outputs": [
        {
          "output_type": "stream",
          "name": "stdout",
          "text": [
            "                    Name  Gender  HSSC-1  HSSC-2  CGPA FavoriteColor  \\\n",
            "0         Muhammad Usman    Male     440     369  2.80         Black   \n",
            "1            Taha Ishfaq    Male     415     408  2.73           Red   \n",
            "2        Muhammad Hamdan    Male     388     321  2.78         Black   \n",
            "3    Syeda Maham Gillani  Female     412     440  3.11          Blue   \n",
            "4             Umar Wasim    Male     364     469  2.42         black   \n",
            "..                   ...     ...     ...     ...   ...           ...   \n",
            "128     M Abubakar Malik    Male     410     349  2.94          Blue   \n",
            "129         Muhammad Ali    Male     403     390  2.52        Yellow   \n",
            "130         shafaqat ali    Male     424     824  3.07         Black   \n",
            "131          Ammar Asif     Male     351     423  2.52         Black   \n",
            "132      Muhammad Zubair    Male     361     335  2.81         Black   \n",
            "\n",
            "    BirthMonth Weight  \n",
            "0        March     77  \n",
            "1        March     72  \n",
            "2      October     53  \n",
            "3     February     63  \n",
            "4     October      80  \n",
            "..         ...    ...  \n",
            "128   Feburary     65  \n",
            "129    October     81  \n",
            "130        May     58  \n",
            "131  December      68  \n",
            "132      March     58  \n",
            "\n",
            "[133 rows x 8 columns]\n"
          ]
        }
      ]
    },
    {
      "cell_type": "code",
      "source": [
        "y = df['Name']\n",
        "print(y)"
      ],
      "metadata": {
        "colab": {
          "base_uri": "https://localhost:8080/"
        },
        "id": "uYPFpDmAO2vA",
        "outputId": "64a7606c-9f7a-4f5b-efb5-c914ef463ff4"
      },
      "execution_count": 4,
      "outputs": [
        {
          "output_type": "stream",
          "name": "stdout",
          "text": [
            "0           Muhammad Usman\n",
            "1              Taha Ishfaq\n",
            "2          Muhammad Hamdan\n",
            "3      Syeda Maham Gillani\n",
            "4               Umar Wasim\n",
            "              ...         \n",
            "128       M Abubakar Malik\n",
            "129           Muhammad Ali\n",
            "130           shafaqat ali\n",
            "131            Ammar Asif \n",
            "132        Muhammad Zubair\n",
            "Name: Name, Length: 133, dtype: object\n"
          ]
        }
      ]
    },
    {
      "cell_type": "code",
      "source": [
        "check = df['Name'].str[0]"
      ],
      "metadata": {
        "id": "IpGZnkroVX3t"
      },
      "execution_count": 5,
      "outputs": []
    },
    {
      "cell_type": "code",
      "source": [
        "check[10]"
      ],
      "metadata": {
        "colab": {
          "base_uri": "https://localhost:8080/",
          "height": 35
        },
        "id": "mWhnkLwKVirx",
        "outputId": "4ddc6c71-6ead-451d-c80c-0cbdb3e00b40"
      },
      "execution_count": 6,
      "outputs": [
        {
          "output_type": "execute_result",
          "data": {
            "text/plain": [
              "'F'"
            ],
            "application/vnd.google.colaboratory.intrinsic+json": {
              "type": "string"
            }
          },
          "metadata": {},
          "execution_count": 6
        }
      ]
    },
    {
      "cell_type": "code",
      "source": [
        "#Print the list of all students whose first name starts with letter the 'H'.\n",
        "for x in range(len(check)):\n",
        "  if(check[x] == 'H' or check[x] == 'h'):\n",
        "    print(y[x])"
      ],
      "metadata": {
        "colab": {
          "base_uri": "https://localhost:8080/"
        },
        "id": "MJ6BuDDoWXpg",
        "outputId": "0a161c13-25f2-406f-bce7-ddadeaa57969"
      },
      "execution_count": 7,
      "outputs": [
        {
          "output_type": "stream",
          "name": "stdout",
          "text": [
            "Hamza Naveed\n",
            "Habib Ullah\n",
            "Hunain Javed\n",
            "Hafiz Malahim Labib.\n",
            "HAMNA TARIQ SALEEMI\n",
            "Hina\n",
            "Hamza Javed Khan\n",
            "Husnain Ahmed \n",
            "Hamayoun Masroor\n",
            "Hussain afzal\n"
          ]
        }
      ]
    },
    {
      "cell_type": "code",
      "source": [
        "#the total number of students who have a three words name (first-middle-surname)\n",
        "for x in range(len(y)):\n",
        "  z = y[x].split()\n",
        "  if(len(z) == 3):\n",
        "   print(y[x])"
      ],
      "metadata": {
        "colab": {
          "base_uri": "https://localhost:8080/"
        },
        "id": "JOeZClUcXSqH",
        "outputId": "36e64ae7-67e1-48e2-bf9e-6f8d662d81cc"
      },
      "execution_count": 8,
      "outputs": [
        {
          "output_type": "stream",
          "name": "stdout",
          "text": [
            "Syeda Maham Gillani\n",
            "Shahzada Mujahid Raza\n",
            "Muhammad Subhan Khan \n",
            "SARMAD WAHEED AHMED \n",
            "M Hassaan Lateef \n",
            "Ahmed Amjad Dar \n",
            "Muhammad Ibrahim Khalil\n",
            "Muhammad saim jamil\n",
            "Ahmar Hafeez Khan\n",
            "Muhammad Umar Asghar\n",
            "M.Abdul Mateen Alam\n",
            "Muhammad Ammar Khalid\n",
            "Osama Nadeem Khan \n",
            "Muhammad Hashir Azeem\n",
            "Muhammad Aun Raza\n",
            "Hafiz Malahim Labib.\n",
            "HAMNA TARIQ SALEEMI\n",
            "Bashara Tehseen Liaqat\n",
            "Muhammad Hammad Ejaz\n",
            "MUHAMMAD SAIF ULLAH\n",
            "Muhammad Al Fahad\n",
            "Abdul Hadi Khan\n",
            "Hamza Javed Khan\n",
            "GHULAM MUSTAFA SHIEKH\n",
            "Muhammad Azeem Shoukat \n",
            "Muhammad Nouman Tahir\n",
            "Muhammad Huzaifa Jawad\n",
            "NOOR TARIQ RANA\n",
            "Muhammad Asadullah Rind\n",
            "Muhammad Talha Saeed\n",
            "Muhammad Bilal Aslam\n",
            "Syed Ali Mehdi\n",
            "Aftab Ahmad Khan\n",
            "Syed Zain Raza\n",
            "Muhammad Umair Tariq \n",
            "M Abubakar Malik\n"
          ]
        }
      ]
    },
    {
      "cell_type": "code",
      "source": [
        "#the percentage of students who have a CGPA of 3.0 or above\n",
        "check = df['CGPA']"
      ],
      "metadata": {
        "id": "sK0v8QhXLD4K"
      },
      "execution_count": 9,
      "outputs": []
    },
    {
      "cell_type": "code",
      "source": [
        "check [10]"
      ],
      "metadata": {
        "colab": {
          "base_uri": "https://localhost:8080/"
        },
        "id": "aMqd7lvyLfyG",
        "outputId": "4d962722-713b-423d-ee5d-8400fe3b8094"
      },
      "execution_count": 10,
      "outputs": [
        {
          "output_type": "execute_result",
          "data": {
            "text/plain": [
              "3.06"
            ]
          },
          "metadata": {},
          "execution_count": 10
        }
      ]
    },
    {
      "cell_type": "code",
      "source": [
        "for x in range(len(check)):\n",
        "  cgpa = float(check[x])\n",
        "  if(cgpa >=3.0):\n",
        "    print(check[x])"
      ],
      "metadata": {
        "colab": {
          "base_uri": "https://localhost:8080/"
        },
        "id": "MzvqqYhOMCho",
        "outputId": "4f0cea42-068d-44ce-afc6-594c7379a75c"
      },
      "execution_count": 11,
      "outputs": [
        {
          "output_type": "stream",
          "name": "stdout",
          "text": [
            "3.11\n",
            "3.2\n",
            "3.06\n",
            "3.1\n",
            "3.05\n",
            "3.53\n",
            "3.3\n",
            "3.26\n",
            "3.47\n",
            "3.35\n",
            "3.22\n",
            "3.2\n",
            "3.12\n",
            "3.15\n",
            "3.01\n",
            "3.05\n",
            "3.25\n",
            "3.24\n",
            "3.12\n",
            "3.44\n",
            "3.19\n",
            "3.11\n",
            "3.4\n",
            "3.0\n",
            "3.23\n",
            "3.39\n",
            "3.27\n",
            "3.52\n",
            "3.23\n",
            "3.2\n",
            "3.16\n",
            "3.0\n",
            "3.0\n",
            "3.16\n",
            "3.12\n",
            "3.45\n",
            "3.06\n",
            "3.07\n"
          ]
        }
      ]
    },
    {
      "cell_type": "code",
      "source": [
        "#a pie chart to show the ratio of male and female students\n",
        "gender = df['Gender']\n",
        "print(gender)"
      ],
      "metadata": {
        "colab": {
          "base_uri": "https://localhost:8080/"
        },
        "id": "61BcNLjRMkvR",
        "outputId": "52948f1e-ff11-4382-df78-3e2137eed8a9"
      },
      "execution_count": 12,
      "outputs": [
        {
          "output_type": "stream",
          "name": "stdout",
          "text": [
            "0        Male\n",
            "1        Male\n",
            "2        Male\n",
            "3      Female\n",
            "4        Male\n",
            "        ...  \n",
            "128      Male\n",
            "129      Male\n",
            "130      Male\n",
            "131      Male\n",
            "132      Male\n",
            "Name: Gender, Length: 133, dtype: object\n"
          ]
        }
      ]
    },
    {
      "cell_type": "code",
      "source": [
        "check = df['Gender']"
      ],
      "metadata": {
        "id": "mkrd3-OANAt3"
      },
      "execution_count": 13,
      "outputs": []
    },
    {
      "cell_type": "code",
      "source": [
        "female=0\n",
        "male=0\n",
        "\n",
        "for x in range(len(check)):\n",
        "  if(check[x] == 'Female'):\n",
        "    female = female+1\n",
        "  if(check[x] == 'Male'):\n",
        "    male = male+1 "
      ],
      "metadata": {
        "id": "Ir3XKz_kNMMg"
      },
      "execution_count": 14,
      "outputs": []
    },
    {
      "cell_type": "code",
      "source": [
        "import matplotlib.pyplot as plt\n",
        "import numpy as np\n",
        "\n",
        "\n",
        "\n",
        "y = np.array([female,male])\n",
        "\n",
        "plt.pie(y)\n",
        "plt.show()"
      ],
      "metadata": {
        "colab": {
          "base_uri": "https://localhost:8080/",
          "height": 248
        },
        "id": "U5YnYg4NNswH",
        "outputId": "01120e59-8711-40d7-bd0b-dcadfa42229b"
      },
      "execution_count": 15,
      "outputs": [
        {
          "output_type": "display_data",
          "data": {
            "text/plain": [
              "<Figure size 432x288 with 1 Axes>"
            ],
            "image/png": "[encoded data removed]"
          },
          "metadata": {}
        }
      ]
    },
    {
      "cell_type": "code",
      "source": [
        "#CGPA of all male students on a histogram with intervals 2.0-2.5, 2.6-3.0, 3.1-3.5, 3.6-4.0\n",
        "import matplotlib.pyplot as pyplot"
      ],
      "metadata": {
        "id": "8Oy15HewOCE9"
      },
      "execution_count": 16,
      "outputs": []
    },
    {
      "cell_type": "code",
      "source": [
        "cgpa_list = []\n",
        "cgpa = df['CGPA']\n",
        "for x in range(len(cgpa)):\n",
        "  if(check[x]== 'Male'):\n",
        "    y= float(cgpa[x])\n",
        "    cgpa_list.append(y)"
      ],
      "metadata": {
        "id": "CcbZHHNVOP9F"
      },
      "execution_count": 17,
      "outputs": []
    },
    {
      "cell_type": "code",
      "source": [
        "cgpa"
      ],
      "metadata": {
        "colab": {
          "base_uri": "https://localhost:8080/"
        },
        "id": "W056orGOPERI",
        "outputId": "fdc9645a-8efc-401f-8859-8478952d8953"
      },
      "execution_count": 18,
      "outputs": [
        {
          "output_type": "execute_result",
          "data": {
            "text/plain": [
              "0      2.80\n",
              "1      2.73\n",
              "2      2.78\n",
              "3      3.11\n",
              "4      2.42\n",
              "       ... \n",
              "128    2.94\n",
              "129    2.52\n",
              "130    3.07\n",
              "131    2.52\n",
              "132    2.81\n",
              "Name: CGPA, Length: 133, dtype: float64"
            ]
          },
          "metadata": {},
          "execution_count": 18
        }
      ]
    },
    {
      "cell_type": "code",
      "source": [
        "fig, ax = pyplot.subplots(figsize=(6, 6))\n",
        "(\n",
        "    pd.cut(cgpa, bins=np.arange(1, 5, 0.5))\n",
        "        .value_counts()\n",
        "        .sort_index()\n",
        "        .plot.bar(ax=ax)\n",
        ")\n"
      ],
      "metadata": {
        "colab": {
          "base_uri": "https://localhost:8080/",
          "height": 427
        },
        "id": "tKXyOEySPL4W",
        "outputId": "30994d79-effc-4431-a8e8-3809fac08a72"
      },
      "execution_count": 19,
      "outputs": [
        {
          "output_type": "execute_result",
          "data": {
            "text/plain": [
              "<matplotlib.axes._subplots.AxesSubplot at 0x7fd1a1d7c710>"
            ]
          },
          "metadata": {},
          "execution_count": 19
        },
        {
          "output_type": "display_data",
          "data": {
            "text/plain": [
              "<Figure size 432x432 with 1 Axes>"
            ],
            "image/png": "[encoded data removed]"
          },
          "metadata": {
            "needs_background": "light"
          }
        }
      ]
    },
    {
      "cell_type": "code",
      "source": [
        "#HSSC-1 marks of all male vs female students on a scatter plot\n",
        "HSSC1 =df['HSSC-1']"
      ],
      "metadata": {
        "id": "qxUTDr9dQZbj"
      },
      "execution_count": 20,
      "outputs": []
    },
    {
      "cell_type": "code",
      "source": [
        "female=[]\n",
        "male=[]"
      ],
      "metadata": {
        "id": "v62clpLvQpRw"
      },
      "execution_count": 21,
      "outputs": []
    },
    {
      "cell_type": "code",
      "source": [
        "for x in range(len(check)):\n",
        "  if(check[x] == 'Female'):\n",
        "    y=int(HSSC1[x])\n",
        "    female.append(y)\n",
        "  if(check[x] == 'Male'):\n",
        "     z = int(HSSC1[x])\n",
        "     male.append(z) "
      ],
      "metadata": {
        "id": "31NNEZzJQupw"
      },
      "execution_count": 22,
      "outputs": []
    },
    {
      "cell_type": "code",
      "source": [
        "import numpy\n",
        "import matplotlib.pyplot as plt\n",
        "\n",
        "arr = numpy.array(female)\n",
        "arr1 = numpy.array(male)\n",
        "plt.scatter(arr, arr)\n",
        "plt.scatter(arr1, arr1)\n",
        "\n",
        "plt.show()"
      ],
      "metadata": {
        "colab": {
          "base_uri": "https://localhost:8080/",
          "height": 265
        },
        "id": "0oGjIaxjFJvz",
        "outputId": "b8b0e6c8-c824-460a-d828-a07b43acc826"
      },
      "execution_count": 23,
      "outputs": [
        {
          "output_type": "display_data",
          "data": {
            "text/plain": [
              "<Figure size 432x288 with 1 Axes>"
            ],
            "image/png": "[encoded data removed]"
          },
          "metadata": {
            "needs_background": "light"
          }
        }
      ]
    },
    {
      "cell_type": "code",
      "source": [
        "#favorite colors of male vs female students on a bar chart\n",
        "\n",
        "color= df['FavoriteColor']"
      ],
      "metadata": {
        "id": "m1JZ6uV1WOdo"
      },
      "execution_count": 24,
      "outputs": []
    },
    {
      "cell_type": "code",
      "source": [
        "femalecolor=[]\n",
        "malecolor=[]"
      ],
      "metadata": {
        "id": "Fe_oU7TlcvJM"
      },
      "execution_count": 25,
      "outputs": []
    },
    {
      "cell_type": "code",
      "source": [
        "for x in range(len(check)): \n",
        "  if(check[x] == 'Female'):\n",
        "    y = (color[x])\n",
        "    femalecolor.append(y)\n",
        "  if(check[x] == 'Male'):\n",
        "     z = (color[x])\n",
        "     malecolor.append(z)"
      ],
      "metadata": {
        "id": "jFViZ5xVc3W0"
      },
      "execution_count": 26,
      "outputs": []
    },
    {
      "cell_type": "code",
      "source": [
        "fig = plt.figure(figsize =(6, 6))\n",
        "plt.bar(femalecolor[0:10],malecolor[0:10])\n",
        "plt.show()"
      ],
      "metadata": {
        "colab": {
          "base_uri": "https://localhost:8080/",
          "height": 374
        },
        "id": "MuyRyLupdVIp",
        "outputId": "11a258e2-5f5b-47b8-a44d-a2e4f256c4bd"
      },
      "execution_count": 27,
      "outputs": [
        {
          "output_type": "display_data",
          "data": {
            "text/plain": [
              "<Figure size 432x432 with 1 Axes>"
            ],
            "image/png": "[encoded data removed]"
          },
          "metadata": {
            "needs_background": "light"
          }
        }
      ]
    },
    {
      "cell_type": "code",
      "source": [
        "#line chart of students and their birth months\n",
        "birthmonth= df['BirthMonth']"
      ],
      "metadata": {
        "id": "mHRL3OiBFxD7"
      },
      "execution_count": 31,
      "outputs": []
    },
    {
      "cell_type": "code",
      "source": [
        "plt.plot(birthmonth,y)\n",
        "plt.title(' birthmonth graph')\n",
        "plt.xlabel('birthmonth')\n",
        "plt.ylabel('y')\n",
        "plt.show()"
      ],
      "metadata": {
        "colab": {
          "base_uri": "https://localhost:8080/",
          "height": 295
        },
        "id": "DfhYlMh2d2RX",
        "outputId": "5d1972c9-9e76-4ef5-f846-ed913563b4d8"
      },
      "execution_count": 32,
      "outputs": [
        {
          "output_type": "display_data",
          "data": {
            "text/plain": [
              "<Figure size 432x288 with 1 Axes>"
            ],
            "image/png": "[encoded data removed]"
          },
          "metadata": {
            "needs_background": "light"
          }
        }
      ]
    },
    {
      "cell_type": "code",
      "source": [
        "#a correlation matrix between HSSC-1 and HSSC-2 marks and then plot on a heatmap\n",
        "o= df['HSSC-1']\n",
        "t= df['HSSC-2']"
      ],
      "metadata": {
        "id": "XvK8XIugeYYs"
      },
      "execution_count": 33,
      "outputs": []
    },
    {
      "cell_type": "code",
      "source": [
        "float(HSSC1)\n",
        "float(t)"
      ],
      "metadata": {
        "id": "b8JjdkwDe7O-",
        "colab": {
          "base_uri": "https://localhost:8080/",
          "height": 304
        },
        "outputId": "6ae25c54-8473-47a4-a925-8d6a16568b13"
      },
      "execution_count": 35,
      "outputs": [
        {
          "output_type": "error",
          "ename": "TypeError",
          "evalue": "ignored",
          "traceback": [
            "\u001b[0;31m---------------------------------------------------------------------------\u001b[0m",
            "\u001b[0;31mTypeError\u001b[0m                                 Traceback (most recent call last)",
            "\u001b[0;32m<ipython-input-35-44035bf299d9>\u001b[0m in \u001b[0;36m<module>\u001b[0;34m\u001b[0m\n\u001b[0;32m----> 1\u001b[0;31m \u001b[0mfloat\u001b[0m\u001b[0;34m(\u001b[0m\u001b[0mHSSC1\u001b[0m\u001b[0;34m)\u001b[0m\u001b[0;34m\u001b[0m\u001b[0;34m\u001b[0m\u001b[0m\n\u001b[0m\u001b[1;32m      2\u001b[0m \u001b[0mfloat\u001b[0m\u001b[0;34m(\u001b[0m\u001b[0mt\u001b[0m\u001b[0;34m)\u001b[0m\u001b[0;34m\u001b[0m\u001b[0;34m\u001b[0m\u001b[0m\n",
            "\u001b[0;32m/usr/local/lib/python3.7/dist-packages/pandas/core/series.py\u001b[0m in \u001b[0;36mwrapper\u001b[0;34m(self)\u001b[0m\n\u001b[1;32m    183\u001b[0m         \u001b[0;32mif\u001b[0m \u001b[0mlen\u001b[0m\u001b[0;34m(\u001b[0m\u001b[0mself\u001b[0m\u001b[0;34m)\u001b[0m \u001b[0;34m==\u001b[0m \u001b[0;36m1\u001b[0m\u001b[0;34m:\u001b[0m\u001b[0;34m\u001b[0m\u001b[0;34m\u001b[0m\u001b[0m\n\u001b[1;32m    184\u001b[0m             \u001b[0;32mreturn\u001b[0m \u001b[0mconverter\u001b[0m\u001b[0;34m(\u001b[0m\u001b[0mself\u001b[0m\u001b[0;34m.\u001b[0m\u001b[0miloc\u001b[0m\u001b[0;34m[\u001b[0m\u001b[0;36m0\u001b[0m\u001b[0;34m]\u001b[0m\u001b[0;34m)\u001b[0m\u001b[0;34m\u001b[0m\u001b[0;34m\u001b[0m\u001b[0m\n\u001b[0;32m--> 185\u001b[0;31m         \u001b[0;32mraise\u001b[0m \u001b[0mTypeError\u001b[0m\u001b[0;34m(\u001b[0m\u001b[0;34mf\"cannot convert the series to {converter}\"\u001b[0m\u001b[0;34m)\u001b[0m\u001b[0;34m\u001b[0m\u001b[0;34m\u001b[0m\u001b[0m\n\u001b[0m\u001b[1;32m    186\u001b[0m \u001b[0;34m\u001b[0m\u001b[0m\n\u001b[1;32m    187\u001b[0m     \u001b[0mwrapper\u001b[0m\u001b[0;34m.\u001b[0m\u001b[0m__name__\u001b[0m \u001b[0;34m=\u001b[0m \u001b[0;34mf\"__{converter.__name__}__\"\u001b[0m\u001b[0;34m\u001b[0m\u001b[0;34m\u001b[0m\u001b[0m\n",
            "\u001b[0;31mTypeError\u001b[0m: cannot convert the series to <class 'float'>"
          ]
        }
      ]
    },
    {
      "cell_type": "code",
      "source": [
        "matrix = np.corrcoef(t , o)\n",
        "print(matrix)"
      ],
      "metadata": {
        "id": "xY4c3neYfEQ9",
        "colab": {
          "base_uri": "https://localhost:8080/"
        },
        "outputId": "f7ea99a1-a6e3-47ae-ccef-c06151224d8b"
      },
      "execution_count": 36,
      "outputs": [
        {
          "output_type": "stream",
          "name": "stdout",
          "text": [
            "[[1.         0.06686309]\n",
            " [0.06686309 1.        ]]\n"
          ]
        }
      ]
    },
    {
      "cell_type": "code",
      "source": [
        "sn.heatmap(matrix, annot=True)\n",
        "plt.show()"
      ],
      "metadata": {
        "id": "mNdH6R1pfQ1k",
        "colab": {
          "base_uri": "https://localhost:8080/",
          "height": 269
        },
        "outputId": "f943d841-d72f-4324-87ef-905de0005e9e"
      },
      "execution_count": 37,
      "outputs": [
        {
          "output_type": "display_data",
          "data": {
            "text/plain": [
              "<Figure size 432x288 with 2 Axes>"
            ],
            "image/png": "[encoded data removed]"
          },
          "metadata": {
            "needs_background": "light"
          }
        }
      ]
    }
  ]
}